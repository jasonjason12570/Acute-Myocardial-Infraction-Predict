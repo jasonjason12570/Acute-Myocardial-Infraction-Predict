{
 "cells": [
  {
   "cell_type": "markdown",
   "id": "d8bb2707-45a4-4a7d-9f0e-148b66f4b3b1",
   "metadata": {
    "tags": []
   },
   "source": [
    "### 取得Datasets\n",
    "1. 取得Myocardial Infarction相關icd_code\n",
    "    - 410-414\n",
    "2. 取得其對應之itemid\n",
    "    - 急性心肌梗死（ICD-9/ICD-9-CM：410；或 ICD-10-CA：I21、I22）\n",
    "    - 其他急性和亞急性缺血性心髒病（ICD-9/ICD-9-CM：411；或 ICD-10-CA：I20.0、I23.82、I24）\n",
    "    - 陳舊性心肌梗死（ICD-9/ICD-9-CM：412；或 ICD-10-CA：I25.2）\n",
    "    - 心絞痛（ICD-9/ICD-9-CM：413；或 ICD-10-CA：I20.1）\n",
    "    - 其他形式的慢性缺血性心髒病（ICD-9/ICD-9-CM：414；或 ICD-10-CA：I25.0、I25.1、I25.3、I25.8、I25.9）\n",
    "```\n",
    "select * from mimiciii.d_icd_diagnoses where icd9_code \n",
    "like '410%' or\n",
    "icd9_code like '411%' or\n",
    "icd9_code like '412%' or\n",
    "icd9_code like '413%' or\n",
    "icd9_code like '414%'\n",
    "```"
   ]
  },
  {
   "cell_type": "code",
   "execution_count": null,
   "id": "07f1d358-1d5a-42b0-bcb8-3255125caaf8",
   "metadata": {},
   "outputs": [],
   "source": []
  }
 ],
 "metadata": {
  "kernelspec": {
   "display_name": "Python 3 (ipykernel)",
   "language": "python",
   "name": "python3"
  },
  "language_info": {
   "codemirror_mode": {
    "name": "ipython",
    "version": 3
   },
   "file_extension": ".py",
   "mimetype": "text/x-python",
   "name": "python",
   "nbconvert_exporter": "python",
   "pygments_lexer": "ipython3",
   "version": "3.9.7"
  }
 },
 "nbformat": 4,
 "nbformat_minor": 5
}
