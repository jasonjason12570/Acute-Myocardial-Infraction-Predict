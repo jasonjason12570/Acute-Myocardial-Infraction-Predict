{
 "cells": [
  {
   "cell_type": "markdown",
   "id": "d8bb2707-45a4-4a7d-9f0e-148b66f4b3b1",
   "metadata": {
    "tags": []
   },
   "source": [
    "### 取得Datasets\n",
    "1. 取得Myocardial Infarction相關icd_code\n",
    "    - 410-414\n",
    "2. 取得其對應之itemid\n",
    "    - 急性心肌梗死（ICD-9/ICD-9-CM：410；或 ICD-10-CA：I21、I22）\n",
    "    - 其他急性和亞急性缺血性心髒病（ICD-9/ICD-9-CM：411；或 ICD-10-CA：I20.0、I23.82、I24）\n",
    "    - 陳舊性心肌梗死（ICD-9/ICD-9-CM：412；或 ICD-10-CA：I25.2）\n",
    "    - 心絞痛（ICD-9/ICD-9-CM：413；或 ICD-10-CA：I20.1）\n",
    "    - 其他形式的慢性缺血性心髒病（ICD-9/ICD-9-CM：414；或 ICD-10-CA：I25.0、I25.1、I25.3、I25.8、I25.9）\n",
    "    ```sql \n",
    "    select * from mimiciii.d_icd_diagnoses where icd9_code \n",
    "    like '410%' or\n",
    "    icd9_code like '411%' or\n",
    "    icd9_code like '412%' or\n",
    "    icd9_code like '413%' or\n",
    "    icd9_code like '414%'\n",
    "    ```\n",
    "3. 解決條件：\n",
    "    1. 健康卡號無效的記錄\n",
    "    2. 出生日期無效的記錄\n",
    "    3. 錄取日期或時間無效的記錄\n",
    "    4. 出院日期或時間無效的記錄\n",
    "    5. 因死亡或自我退出或未從通行證返回而出院\n",
    "    6. 在任何位置記錄的以下任何一種診斷：\n",
    "        - Cancer (ICD-9/ICD-9-CM: 140–208, V58.1, V58.0; or ICD-10-CA: C00–C26, C30–C44, C45–C97, Z51.0, Z51.1)\n",
    "        - HIV (ICD-9: 042, 043, 044, 795.8; or ICD-9-CM: 042, 043, 044, 795.71, V08; or ICD-10-CA: B24, Z21, R75)\n",
    "        - Trauma (ICD-9/ICD-9-CM: E800–848, E880–886, E888, E890–899, E900–910, E913–926, E928, E950–958, E960–968, E970–976, E990–998; or ICD-10-CA: V01–V99, W00–W23, X00–X09, W92–W94, X17, X30, X31, X51, X53, X54, X57, X20–X29, W50–W60, X33–X38, W30, W31, W44, W45, W64–W77, W81–W84, W25–W27, W33–W40, W85–W99, X10–X19, X60–X84, X85–Y09, Y35.0–Y35.4, Y35.6, Y35.7, Y36)\n",
    "        "
   ]
  },
  {
   "cell_type": "code",
   "execution_count": null,
   "id": "32ffe82b-db74-4cc9-9656-3b9432684e12",
   "metadata": {},
   "outputs": [],
   "source": [
    "#處理"
   ]
  },
  {
   "cell_type": "code",
   "execution_count": null,
   "id": "07f1d358-1d5a-42b0-bcb8-3255125caaf8",
   "metadata": {},
   "outputs": [],
   "source": [
    "'41403','41000','41001','41002','41010','41011','41012','41020','41021','41022'',41030','41031','41032'',41040','41041','41042','41050','41051','41052','41060','41061','41062','41070','41071','41072','41080','41081','41082','41090','41091','41092','4110','4111','41181','41189','412','4130','4131','4139','41400','41401','41402','41404','41405','41406','41407','41410','41411','41412','41419','4142','4143','4144','4148','4149'"
   ]
  },
  {
   "cell_type": "markdown",
   "id": "8f57c94f-b0f8-41ba-ac11-8df1f716ced6",
   "metadata": {},
   "source": [
    "```sql\n",
    "SELECT d.subject_id, d.hadm_id, gender, dob, dod, seq_num, icd9_code, admittime, dischtime, admission_type, admission_location, discharge_location, insurance, language, \n",
    "    religion, marital_status, ethnicity, edregtime, edouttime, diagnosis, a.hospital_expire_flag, has_chartevents_data, icustay_id, dbsource, first_careunit, \n",
    "    last_careunit, first_wardid, last_wardid, intime, outtime, los\n",
    "FROM mimiciii.diagnoses_icd d\n",
    "    inner join mimiciii.admissions a on d.subject_id = a.subject_id\n",
    "    inner join mimiciii.icustays icu on d.hadm_id = icu.hadm_id\n",
    "    inner join mimiciii.patients p on a.subject_id = p.subject_id\n",
    "where icd9_code in ('41403','41000','41001','41002','41010','41011','41012','41020','41021','41022'',41030','41031','41032'',41040','41041','41042','41050','41051','41052','41060','41061','41062','41070','41071','41072','41080','41081','41082','41090','41091','41092','4110','4111','41181','41189','412','4130','4131','4139','41400','41401','41402','41404','41405','41406','41407','41410','41411','41412','41419','4142','4143','4144','4148','4149')\n",
    "```"
   ]
  },
  {
   "cell_type": "code",
   "execution_count": null,
   "id": "144280e1-92e7-49c6-a6a8-7de0e34eac1a",
   "metadata": {},
   "outputs": [],
   "source": []
  }
 ],
 "metadata": {
  "kernelspec": {
   "display_name": "Python 3",
   "language": "python",
   "name": "python3"
  },
  "language_info": {
   "codemirror_mode": {
    "name": "ipython",
    "version": 3
   },
   "file_extension": ".py",
   "mimetype": "text/x-python",
   "name": "python",
   "nbconvert_exporter": "python",
   "pygments_lexer": "ipython3",
   "version": "3.8.8"
  }
 },
 "nbformat": 4,
 "nbformat_minor": 5
}
